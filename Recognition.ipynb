{
 "cells": [
  {
   "cell_type": "code",
   "execution_count": 1,
   "metadata": {},
   "outputs": [],
   "source": [
    "# imports\n",
    "import time\n",
    "from skimage import transform, io\n",
    "from sklearn.model_selection import train_test_split\n",
    "import os\n",
    "import numpy as np"
   ]
  },
  {
   "cell_type": "code",
   "execution_count": 2,
   "metadata": {},
   "outputs": [
    {
     "name": "stderr",
     "output_type": "stream",
     "text": [
      "Using TensorFlow backend.\n"
     ]
    }
   ],
   "source": [
    "#import keras \n",
    "import keras\n",
    "from keras.models import Sequential\n",
    "from keras.layers import Dense, Conv2D, Dropout, Flatten, MaxPooling2D\n",
    "from keras.models import model_from_json"
   ]
  },
  {
   "cell_type": "code",
   "execution_count": 3,
   "metadata": {},
   "outputs": [],
   "source": [
    "#SETTINGS\n",
    "image_height = 112\n",
    "image_width = 176\n",
    "input_shape = (image_height, image_width, 1)\n",
    "num_labels = 7\n",
    "batch = 2\n",
    "epochs = 3\n",
    "labels = [\"down\",\"go\",\"left\",\"on\",\"right\",\"stop\",\"up\"]\n",
    "PATH = \"C:\\\\Users\\\\Filip\\\\Desktop\\\\Jupyter\""
   ]
  },
  {
   "cell_type": "code",
   "execution_count": 4,
   "metadata": {
    "scrolled": true
   },
   "outputs": [],
   "source": [
    "#loads .png dataset from png_directory and reformats it\n",
    "#input: png_directory - path to directory with spectrograms.png\n",
    "#output: x_train, y_train - np.array of training images and labels\n",
    "#        reformated into Conv2D input format\n",
    "#output: x_test, y_test - np.array of test images and labels\n",
    "#        reformated into Conv2D input format\n",
    "def load_dataset(png_directory):\n",
    "    image_list = []\n",
    "    label_list = []\n",
    "    #append each image and image_label to image_list and label_list\n",
    "    for file_name in os.scandir(png_directory):\n",
    "        if file_name.path.endswith(\".png\"):\n",
    "            image = io.imread(file_name.path, as_gray=True)\n",
    "            image = transform.resize(image, (image_height,image_width), mode=\"symmetric\",\n",
    "                                    preserve_range=True)\n",
    "            io.imshow(image)\n",
    "            image_list.append(image)\n",
    "            label_list.append(file_name.name[0])\n",
    "    #split images and labels into train and test batches\n",
    "    x_train, x_test, y_train, y_test = train_test_split(image_list,\n",
    "                                                       label_list,\n",
    "                                                       test_size = 0.2)\n",
    "    #switch to np.array\n",
    "    x_train = np.array(x_train)\n",
    "    x_test = np.array(x_test)\n",
    "    y_train = np.array(y_train)\n",
    "    y_test = np.array(y_test)\n",
    "    #reshape to match Conv2D input\n",
    "    x_train = x_train.reshape(x_train.shape[0], image_height, image_width, 1)\n",
    "    x_test = x_test.reshape(x_test.shape[0], image_height, image_width, 1)\n",
    "    y_train = keras.utils.to_categorical(y_train, num_labels)\n",
    "    y_test = keras.utils.to_categorical(y_test, num_labels)\n",
    "    return x_train, x_test, y_train, y_test"
   ]
  },
  {
   "cell_type": "code",
   "execution_count": 5,
   "metadata": {
    "scrolled": true
   },
   "outputs": [
    {
     "data": {
      "image/png": "[encoded data removed]",
      "text/plain": [
       "<Figure size 432x288 with 1 Axes>"
      ]
     },
     "metadata": {
      "needs_background": "light"
     },
     "output_type": "display_data"
    }
   ],
   "source": [
    "x_train, x_test, y_train, y_test = load_dataset(PATH)\n",
    "#=======================MODEL=========================\n",
    "model = Sequential()\n",
    "model.add(Conv2D(32, kernel_size=(3, 3), activation=\"relu\",\n",
    "                input_shape=input_shape))\n",
    "model.add(Conv2D(64, kernel_size=(3, 3), activation=\"relu\"))\n",
    "model.add(MaxPooling2D(pool_size=(2,2)))\n",
    "model.add(Dropout(0.2))\n",
    "model.add(Flatten())\n",
    "model.add(Dense(128, activation=\"relu\"))\n",
    "model.add(Dropout(0.4))\n",
    "model.add(Dense(num_labels, activation=\"softmax\"))\n",
    "#===================================================="
   ]
  },
  {
   "cell_type": "code",
   "execution_count": 6,
   "metadata": {},
   "outputs": [
    {
     "name": "stdout",
     "output_type": "stream",
     "text": [
      "Model: \"sequential_1\"\n",
      "_________________________________________________________________\n",
      "Layer (type)                 Output Shape              Param #   \n",
      "=================================================================\n",
      "conv2d_1 (Conv2D)            (None, 110, 174, 32)      320       \n",
      "_________________________________________________________________\n",
      "conv2d_2 (Conv2D)            (None, 108, 172, 64)      18496     \n",
      "_________________________________________________________________\n",
      "max_pooling2d_1 (MaxPooling2 (None, 54, 86, 64)        0         \n",
      "_________________________________________________________________\n",
      "dropout_1 (Dropout)          (None, 54, 86, 64)        0         \n",
      "_________________________________________________________________\n",
      "flatten_1 (Flatten)          (None, 297216)            0         \n",
      "_________________________________________________________________\n",
      "dense_1 (Dense)              (None, 128)               38043776  \n",
      "_________________________________________________________________\n",
      "dropout_2 (Dropout)          (None, 128)               0         \n",
      "_________________________________________________________________\n",
      "dense_2 (Dense)              (None, 7)                 903       \n",
      "=================================================================\n",
      "Total params: 38,063,495\n",
      "Trainable params: 38,063,495\n",
      "Non-trainable params: 0\n",
      "_________________________________________________________________\n"
     ]
    }
   ],
   "source": [
    "#compilation\n",
    "model.compile(loss=keras.losses.categorical_crossentropy,\n",
    "             optimizer=keras.optimizers.adam(),\n",
    "             metrics=[\"accuracy\"])\n",
    "#model summary\n",
    "model.summary()"
   ]
  },
  {
   "cell_type": "code",
   "execution_count": 7,
   "metadata": {
    "scrolled": false
   },
   "outputs": [
    {
     "name": "stdout",
     "output_type": "stream",
     "text": [
      "Train on 5 samples, validate on 2 samples\n",
      "Epoch 1/3\n",
      "5/5 [==============================] - 2s 489ms/step - loss: 0.8153 - accuracy: 0.6000 - val_loss: 0.0000e+00 - val_accuracy: 1.0000\n",
      "Epoch 2/3\n",
      "5/5 [==============================] - 2s 457ms/step - loss: 0.0000e+00 - accuracy: 1.0000 - val_loss: 0.0000e+00 - val_accuracy: 1.0000\n",
      "Epoch 3/3\n",
      "5/5 [==============================] - 3s 515ms/step - loss: 0.0000e+00 - accuracy: 1.0000 - val_loss: 0.0000e+00 - val_accuracy: 1.0000\n",
      "Training done in 8.005134105682373 seconds\n"
     ]
    }
   ],
   "source": [
    "start_time = time.time()\n",
    "#training\n",
    "model.fit(x_train, y_train, batch_size=batch, epochs=epochs, verbose=1,\n",
    "          validation_data=(x_test, y_test))\n",
    "finish_time = time.time()\n",
    "print(\"Training done in {} seconds\".format(finish_time-start_time))"
   ]
  }
 ],
 "metadata": {
  "kernelspec": {
   "display_name": "Python 3",
   "language": "python",
   "name": "python3"
  },
  "language_info": {
   "codemirror_mode": {
    "name": "ipython",
    "version": 3
   },
   "file_extension": ".py",
   "mimetype": "text/x-python",
   "name": "python",
   "nbconvert_exporter": "python",
   "pygments_lexer": "ipython3",
   "version": "3.7.0"
  }
 },
 "nbformat": 4,
 "nbformat_minor": 4
}
