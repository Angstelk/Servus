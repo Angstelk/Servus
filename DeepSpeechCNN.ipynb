{
 "cells": [
  {
   "cell_type": "code",
   "execution_count": 28,
   "metadata": {},
   "outputs": [],
   "source": [
    "#imports\n",
    "import pandas as pd\n",
    "import numpy as np\n",
    "import os\n",
    "import librosa\n",
    "import matplotlib.pyplot as plt\n",
    "import time\n",
    "from scipy.io import wavfile as wav\n",
    "from sklearn.preprocessing import LabelEncoder\n",
    "from sklearn.model_selection import train_test_split\n",
    "from sklearn import metrics \n",
    "#keras\n",
    "from keras.utils import to_categorical\n",
    "from keras.models import Sequential\n",
    "from keras.layers import Dense, Dropout, Activation, Flatten\n",
    "from keras.layers import Convolution2D,Conv2D, MaxPooling2D\n",
    "from keras.layers import GlobalAveragePooling2D\n",
    "from keras.optimizers import Adam\n",
    "from keras.utils import np_utils"
   ]
  },
  {
   "cell_type": "code",
   "execution_count": 2,
   "metadata": {},
   "outputs": [],
   "source": [
    "#Settings\n",
    "audio_dataset_path = \"C:\\\\Users\\\\Filip\\\\Desktop\\\\Jupyter\\\\wav_dataset\"\n",
    "#test files for prediction\n",
    "test_file_on = audio_dataset_path+\"\\\\\"+\"on\"+\"\\\\\"+\"3cc595de_nohash_1.wav\"\n",
    "test_file_down = audio_dataset_path+\"\\\\\"+\"down\"+\"\\\\\"+\"b87bdb22_nohash_1.wav\"\n",
    "test_file_right = audio_dataset_path+\"\\\\\"+\"right\"+\"\\\\\"+\"2aca1e72_nohash_1.wav\"\n",
    "class_label = [\"down\",\"go\",\"left\",\"on\",\"right\",\"stop\",\"up\"]\n",
    "#wav_sample_rate = 16000\n",
    "num_mfcc = 40\n",
    "#number of spectrograms to make (per class)\n",
    "num_files = 1500\n",
    "num_epochs = 40\n",
    "num_batch = 64\n",
    "#padding for mfcc spectrograms \n",
    "PADDING = 64"
   ]
  },
  {
   "cell_type": "code",
   "execution_count": 3,
   "metadata": {},
   "outputs": [],
   "source": [
    "#make mfc spectrogram out of .wav file and apply padding to it\n",
    "def get_spectrogram(file_name):\n",
    "    try:\n",
    "        audio, sample_rate = librosa.load(file_name, res_type=\"kaiser_fast\")\n",
    "        mfcc = librosa.feature.mfcc(y=audio, sr=sample_rate, n_mfcc = num_mfcc)\n",
    "        pad = PADDING - mfcc.shape[1]\n",
    "        mfcc = np.pad(mfcc, pad_width=((0,0), (0,pad)), mode=\"constant\")\n",
    "    except Except as err:\n",
    "        print(\"Error with file: \", file_name)\n",
    "        return None, None\n",
    "    return mfcc"
   ]
  },
  {
   "cell_type": "code",
   "execution_count": 4,
   "metadata": {},
   "outputs": [],
   "source": [
    "#iterate through all of files in dataset and make spectrograms out of them\n",
    "#save spectrograms in numpy DataFrame (excel-like sheet)\n",
    "def spectro_bot(dataset_path):\n",
    "    entries = []\n",
    "    start_time = time.time()\n",
    "    for dir_name in class_label:\n",
    "        print(dir_name)\n",
    "        label_index = class_label.index(dir_name)\n",
    "        dir_path = dataset_path+\"\\\\\"+dir_name\n",
    "        i = 0\n",
    "        for file_name in os.listdir(dir_path):\n",
    "            file_path = dir_path+\"\\\\\"+file_name\n",
    "            data = get_spectrogram(file_path)\n",
    "            entries.append([data, label_index])\n",
    "            i=i+1\n",
    "            if (i==num_files):\n",
    "                break\n",
    "    entries_data_frame = pd.DataFrame(entries, columns=[\"entries\", \"label\"])\n",
    "    entries_data_frame = entries_data_frame.sample(frac=1).reset_index(drop=True)\n",
    "    finish_time = time.time()\n",
    "    print(\"Finished processing {} files in {} seconds\".\n",
    "          format(len(entries_data_frame), finish_time-start_time))\n",
    "    return entries_data_frame"
   ]
  },
  {
   "cell_type": "code",
   "execution_count": 5,
   "metadata": {},
   "outputs": [
    {
     "name": "stdout",
     "output_type": "stream",
     "text": [
      "down\n",
      "go\n",
      "left\n",
      "on\n",
      "right\n",
      "stop\n",
      "up\n",
      "Finished processing 10500 files in 147.6114149093628 seconds\n"
     ]
    }
   ],
   "source": [
    "#make spectrograms\n",
    "data_frame = spectro_bot(audio_dataset_path)\n",
    "#move dataframe entries into np. array\n",
    "X = np.array(data_frame.entries.tolist())\n",
    "y = np.array(data_frame.label.tolist())\n",
    "\n",
    "#encode labels\n",
    "encoder = LabelEncoder()\n",
    "encoded_labels = to_categorical(encoder.fit_transform(y))\n",
    "\n",
    "#split dataset\n",
    "x_train, x_test, y_train, y_test = train_test_split(X, encoded_labels,\n",
    "                                                    test_size=0.25,\n",
    "                                                    random_state = 42)\n",
    "\n",
    "#reshape\n",
    "num_rows = num_mfcc\n",
    "num_columns = PADDING\n",
    "num_channels = 1\n",
    "x_train = x_train.reshape(x_train.shape[0], num_rows, num_columns, num_channels)\n",
    "x_test = x_test.reshape(x_test.shape[0], num_rows, num_columns, num_channels)\n",
    "num_labels = encoded_labels.shape[1]"
   ]
  },
  {
   "cell_type": "code",
   "execution_count": 30,
   "metadata": {},
   "outputs": [],
   "source": [
    "#=============================CNN MODEL===============================\n",
    "model = Sequential()\n",
    "#first conv\n",
    "model.add(Conv2D(filters=16, kernel_size=3,\n",
    "                 input_shape=(num_rows, num_columns, num_channels),\n",
    "                 activation='relu'))\n",
    "model.add(MaxPooling2D(pool_size=2, padding=\"same\"))\n",
    "model.add(Dropout(0.2))\n",
    "\n",
    "model.add(Conv2D(filters=32, kernel_size=3, activation='relu'))\n",
    "model.add(MaxPooling2D(pool_size=2, padding=\"same\"))\n",
    "model.add(Dropout(0.2))\n",
    "\n",
    "model.add(Conv2D(filters=64, kernel_size=3, activation='relu'))\n",
    "model.add(MaxPooling2D(pool_size=2, padding=\"same\"))\n",
    "model.add(Dropout(0.2))\n",
    "\n",
    "model.add(Conv2D(filters=128, kernel_size=3, activation='relu'))\n",
    "model.add(MaxPooling2D(pool_size=2, padding=\"same\"))\n",
    "model.add(Dropout(0.2))\n",
    "\n",
    "model.add(GlobalAveragePooling2D())\n",
    "\n",
    "model.add(Dense(num_labels, activation='softmax'))"
   ]
  },
  {
   "cell_type": "code",
   "execution_count": 31,
   "metadata": {},
   "outputs": [
    {
     "name": "stdout",
     "output_type": "stream",
     "text": [
      "Model: \"sequential_8\"\n",
      "_________________________________________________________________\n",
      "Layer (type)                 Output Shape              Param #   \n",
      "=================================================================\n",
      "conv2d_28 (Conv2D)           (None, 38, 62, 16)        160       \n",
      "_________________________________________________________________\n",
      "max_pooling2d_28 (MaxPooling (None, 19, 31, 16)        0         \n",
      "_________________________________________________________________\n",
      "dropout_23 (Dropout)         (None, 19, 31, 16)        0         \n",
      "_________________________________________________________________\n",
      "conv2d_29 (Conv2D)           (None, 17, 29, 32)        4640      \n",
      "_________________________________________________________________\n",
      "max_pooling2d_29 (MaxPooling (None, 9, 15, 32)         0         \n",
      "_________________________________________________________________\n",
      "dropout_24 (Dropout)         (None, 9, 15, 32)         0         \n",
      "_________________________________________________________________\n",
      "conv2d_30 (Conv2D)           (None, 7, 13, 64)         18496     \n",
      "_________________________________________________________________\n",
      "max_pooling2d_30 (MaxPooling (None, 4, 7, 64)          0         \n",
      "_________________________________________________________________\n",
      "dropout_25 (Dropout)         (None, 4, 7, 64)          0         \n",
      "_________________________________________________________________\n",
      "conv2d_31 (Conv2D)           (None, 2, 5, 128)         73856     \n",
      "_________________________________________________________________\n",
      "max_pooling2d_31 (MaxPooling (None, 1, 3, 128)         0         \n",
      "_________________________________________________________________\n",
      "dropout_26 (Dropout)         (None, 1, 3, 128)         0         \n",
      "_________________________________________________________________\n",
      "global_average_pooling2d_3 ( (None, 128)               0         \n",
      "_________________________________________________________________\n",
      "dense_3 (Dense)              (None, 7)                 903       \n",
      "=================================================================\n",
      "Total params: 98,055\n",
      "Trainable params: 98,055\n",
      "Non-trainable params: 0\n",
      "_________________________________________________________________\n",
      "2625/2625 [==============================] - 1s 406us/stepTA: \n",
      "Pre training: 14.247618615627289\n"
     ]
    }
   ],
   "source": [
    "#compile\n",
    "model.compile(loss='categorical_crossentropy',\n",
    "              metrics=['accuracy'],\n",
    "              optimizer='adam')\n",
    "model.summary()\n",
    "#pre-training acc\n",
    "acc = model.evaluate(x_test,y_test,verbose=1)\n",
    "print(\"Pre training: {}\".format(100*acc[1]))"
   ]
  },
  {
   "cell_type": "code",
   "execution_count": 32,
   "metadata": {},
   "outputs": [
    {
     "name": "stdout",
     "output_type": "stream",
     "text": [
      "Train on 7875 samples, validate on 2625 samples\n",
      "Epoch 1/60\n",
      "7875/7875 [==============================] - 13s 2ms/step - loss: 2.2716 - accuracy: 0.1968 - val_loss: 1.7663 - val_accuracy: 0.3379\n",
      "Epoch 2/60\n",
      "7875/7875 [==============================] - 14s 2ms/step - loss: 1.6927 - accuracy: 0.3297 - val_loss: 1.3418 - val_accuracy: 0.5318\n",
      "Epoch 3/60\n",
      "7875/7875 [==============================] - 13s 2ms/step - loss: 1.2765 - accuracy: 0.5167 - val_loss: 0.8612 - val_accuracy: 0.7017\n",
      "Epoch 4/60\n",
      "7875/7875 [==============================] - 13s 2ms/step - loss: 1.0153 - accuracy: 0.6281 - val_loss: 0.6774 - val_accuracy: 0.7897\n",
      "Epoch 5/60\n",
      "7875/7875 [==============================] - 13s 2ms/step - loss: 0.8218 - accuracy: 0.7145 - val_loss: 0.5664 - val_accuracy: 0.8312\n",
      "Epoch 6/60\n",
      "7875/7875 [==============================] - 12s 2ms/step - loss: 0.7520 - accuracy: 0.7302 - val_loss: 0.4580 - val_accuracy: 0.8495\n",
      "Epoch 7/60\n",
      "7875/7875 [==============================] - 13s 2ms/step - loss: 0.6505 - accuracy: 0.7713 - val_loss: 0.4193 - val_accuracy: 0.8655\n",
      "Epoch 8/60\n",
      "7875/7875 [==============================] - 13s 2ms/step - loss: 0.5954 - accuracy: 0.7923 - val_loss: 0.3681 - val_accuracy: 0.8739\n",
      "Epoch 9/60\n",
      "7875/7875 [==============================] - 13s 2ms/step - loss: 0.5600 - accuracy: 0.8075 - val_loss: 0.3435 - val_accuracy: 0.8903\n",
      "Epoch 10/60\n",
      "7875/7875 [==============================] - 13s 2ms/step - loss: 0.5325 - accuracy: 0.8159 - val_loss: 0.3160 - val_accuracy: 0.9025\n",
      "Epoch 11/60\n",
      "7875/7875 [==============================] - 13s 2ms/step - loss: 0.5015 - accuracy: 0.8311 - val_loss: 0.3181 - val_accuracy: 0.8949\n",
      "Epoch 12/60\n",
      "7875/7875 [==============================] - 13s 2ms/step - loss: 0.4581 - accuracy: 0.8392 - val_loss: 0.2819 - val_accuracy: 0.9097\n",
      "Epoch 13/60\n",
      "7875/7875 [==============================] - 13s 2ms/step - loss: 0.4683 - accuracy: 0.8442 - val_loss: 0.2682 - val_accuracy: 0.9150\n",
      "Epoch 14/60\n",
      "7875/7875 [==============================] - 13s 2ms/step - loss: 0.4174 - accuracy: 0.8587 - val_loss: 0.2541 - val_accuracy: 0.9208\n",
      "Epoch 15/60\n",
      "7875/7875 [==============================] - 16s 2ms/step - loss: 0.4170 - accuracy: 0.8606 - val_loss: 0.2444 - val_accuracy: 0.9250\n",
      "Epoch 16/60\n",
      "7875/7875 [==============================] - 14s 2ms/step - loss: 0.3899 - accuracy: 0.8670 - val_loss: 0.2298 - val_accuracy: 0.9219\n",
      "Epoch 17/60\n",
      "7875/7875 [==============================] - 13s 2ms/step - loss: 0.3544 - accuracy: 0.8770 - val_loss: 0.2389 - val_accuracy: 0.9211\n",
      "Epoch 18/60\n",
      "7875/7875 [==============================] - 13s 2ms/step - loss: 0.3675 - accuracy: 0.8744 - val_loss: 0.2362 - val_accuracy: 0.9257\n",
      "Epoch 19/60\n",
      "7875/7875 [==============================] - 13s 2ms/step - loss: 0.3572 - accuracy: 0.8770 - val_loss: 0.2226 - val_accuracy: 0.9227\n",
      "Epoch 20/60\n",
      "7875/7875 [==============================] - 13s 2ms/step - loss: 0.3264 - accuracy: 0.8922 - val_loss: 0.2151 - val_accuracy: 0.9345\n",
      "Epoch 21/60\n",
      "7875/7875 [==============================] - 13s 2ms/step - loss: 0.3351 - accuracy: 0.8893 - val_loss: 0.2117 - val_accuracy: 0.9314\n",
      "Epoch 22/60\n",
      "7875/7875 [==============================] - 13s 2ms/step - loss: 0.3017 - accuracy: 0.8940 - val_loss: 0.2027 - val_accuracy: 0.9322\n",
      "Epoch 23/60\n",
      "7875/7875 [==============================] - 13s 2ms/step - loss: 0.3095 - accuracy: 0.8902 - val_loss: 0.1965 - val_accuracy: 0.9364\n",
      "Epoch 24/60\n",
      "7875/7875 [==============================] - 13s 2ms/step - loss: 0.2865 - accuracy: 0.9034 - val_loss: 0.1939 - val_accuracy: 0.9390\n",
      "Epoch 25/60\n",
      "7875/7875 [==============================] - 13s 2ms/step - loss: 0.2853 - accuracy: 0.8994 - val_loss: 0.2068 - val_accuracy: 0.9349\n",
      "Epoch 26/60\n",
      "7875/7875 [==============================] - 12s 2ms/step - loss: 0.2683 - accuracy: 0.9088 - val_loss: 0.1854 - val_accuracy: 0.9383\n",
      "Epoch 27/60\n",
      "7875/7875 [==============================] - 15s 2ms/step - loss: 0.2761 - accuracy: 0.9032 - val_loss: 0.1803 - val_accuracy: 0.9390\n",
      "Epoch 28/60\n",
      "7875/7875 [==============================] - 14s 2ms/step - loss: 0.2499 - accuracy: 0.9163 - val_loss: 0.1946 - val_accuracy: 0.9379\n",
      "Epoch 29/60\n",
      "7875/7875 [==============================] - 14s 2ms/step - loss: 0.2559 - accuracy: 0.9102 - val_loss: 0.1834 - val_accuracy: 0.9368\n",
      "Epoch 30/60\n",
      "7875/7875 [==============================] - 13s 2ms/step - loss: 0.2434 - accuracy: 0.9158 - val_loss: 0.1944 - val_accuracy: 0.9345\n",
      "Epoch 31/60\n",
      "7875/7875 [==============================] - 13s 2ms/step - loss: 0.2397 - accuracy: 0.9149 - val_loss: 0.1709 - val_accuracy: 0.9451\n",
      "Epoch 32/60\n",
      "7875/7875 [==============================] - 13s 2ms/step - loss: 0.2420 - accuracy: 0.9159 - val_loss: 0.1874 - val_accuracy: 0.9387\n",
      "Epoch 33/60\n",
      "7875/7875 [==============================] - 13s 2ms/step - loss: 0.2266 - accuracy: 0.9225 - val_loss: 0.1881 - val_accuracy: 0.9383\n",
      "Epoch 34/60\n",
      "7875/7875 [==============================] - 12s 2ms/step - loss: 0.2763 - accuracy: 0.9076 - val_loss: 0.1746 - val_accuracy: 0.9387\n",
      "Epoch 35/60\n",
      "7875/7875 [==============================] - 13s 2ms/step - loss: 0.2449 - accuracy: 0.9186 - val_loss: 0.1825 - val_accuracy: 0.9417\n",
      "Epoch 36/60\n",
      "7875/7875 [==============================] - 13s 2ms/step - loss: 0.2195 - accuracy: 0.9228 - val_loss: 0.1767 - val_accuracy: 0.9402\n",
      "Epoch 37/60\n",
      "7875/7875 [==============================] - 12s 2ms/step - loss: 0.2055 - accuracy: 0.9299 - val_loss: 0.1751 - val_accuracy: 0.9421\n",
      "Epoch 38/60\n",
      "7875/7875 [==============================] - 12s 2ms/step - loss: 0.2139 - accuracy: 0.9237 - val_loss: 0.1708 - val_accuracy: 0.9436\n",
      "Epoch 39/60\n",
      "7875/7875 [==============================] - 13s 2ms/step - loss: 0.2130 - accuracy: 0.9265 - val_loss: 0.1658 - val_accuracy: 0.9440\n",
      "Epoch 40/60\n",
      "7875/7875 [==============================] - 13s 2ms/step - loss: 0.2001 - accuracy: 0.9332 - val_loss: 0.1622 - val_accuracy: 0.9451\n",
      "Epoch 41/60\n",
      "7875/7875 [==============================] - 13s 2ms/step - loss: 0.2054 - accuracy: 0.9291 - val_loss: 0.1716 - val_accuracy: 0.9455\n",
      "Epoch 42/60\n",
      "7875/7875 [==============================] - 13s 2ms/step - loss: 0.2071 - accuracy: 0.9280 - val_loss: 0.1747 - val_accuracy: 0.9413\n",
      "Epoch 43/60\n",
      "7875/7875 [==============================] - 12s 2ms/step - loss: 0.1965 - accuracy: 0.9308 - val_loss: 0.1690 - val_accuracy: 0.9470\n",
      "Epoch 44/60\n",
      "7875/7875 [==============================] - 12s 2ms/step - loss: 0.1814 - accuracy: 0.9390 - val_loss: 0.1659 - val_accuracy: 0.9474\n",
      "Epoch 45/60\n",
      "7875/7875 [==============================] - 13s 2ms/step - loss: 0.1956 - accuracy: 0.9323 - val_loss: 0.1739 - val_accuracy: 0.9440\n",
      "Epoch 46/60\n",
      "7875/7875 [==============================] - 13s 2ms/step - loss: 0.1873 - accuracy: 0.9352 - val_loss: 0.1636 - val_accuracy: 0.9474\n",
      "Epoch 47/60\n",
      "7875/7875 [==============================] - 13s 2ms/step - loss: 0.1815 - accuracy: 0.9396 - val_loss: 0.1661 - val_accuracy: 0.9501\n",
      "Epoch 48/60\n",
      "7875/7875 [==============================] - 13s 2ms/step - loss: 0.1722 - accuracy: 0.9384 - val_loss: 0.1594 - val_accuracy: 0.9486\n",
      "Epoch 49/60\n",
      "7875/7875 [==============================] - 13s 2ms/step - loss: 0.1819 - accuracy: 0.9394 - val_loss: 0.1684 - val_accuracy: 0.9470\n",
      "Epoch 50/60\n",
      "7875/7875 [==============================] - 12s 2ms/step - loss: 0.1930 - accuracy: 0.9352 - val_loss: 0.1632 - val_accuracy: 0.9429\n",
      "Epoch 51/60\n",
      "7875/7875 [==============================] - 13s 2ms/step - loss: 0.1777 - accuracy: 0.9407 - val_loss: 0.1579 - val_accuracy: 0.9470\n",
      "Epoch 52/60\n",
      "7875/7875 [==============================] - 13s 2ms/step - loss: 0.1746 - accuracy: 0.9443 - val_loss: 0.1632 - val_accuracy: 0.9463\n",
      "Epoch 53/60\n",
      "7875/7875 [==============================] - 13s 2ms/step - loss: 0.1593 - accuracy: 0.9468 - val_loss: 0.1722 - val_accuracy: 0.9463\n",
      "Epoch 54/60\n",
      "7875/7875 [==============================] - 13s 2ms/step - loss: 0.1738 - accuracy: 0.9435 - val_loss: 0.1714 - val_accuracy: 0.9440\n",
      "Epoch 55/60\n",
      "7875/7875 [==============================] - 13s 2ms/step - loss: 0.1983 - accuracy: 0.9336 - val_loss: 0.1561 - val_accuracy: 0.9482\n",
      "Epoch 56/60\n",
      "7875/7875 [==============================] - 13s 2ms/step - loss: 0.1642 - accuracy: 0.9454 - val_loss: 0.1594 - val_accuracy: 0.9470\n"
     ]
    },
    {
     "name": "stdout",
     "output_type": "stream",
     "text": [
      "Epoch 57/60\n",
      "7875/7875 [==============================] - 13s 2ms/step - loss: 0.1653 - accuracy: 0.9444 - val_loss: 0.1573 - val_accuracy: 0.9474\n",
      "Epoch 58/60\n",
      "7875/7875 [==============================] - 12s 2ms/step - loss: 0.1505 - accuracy: 0.9490 - val_loss: 0.1671 - val_accuracy: 0.9421\n",
      "Epoch 59/60\n",
      "7875/7875 [==============================] - 12s 2ms/step - loss: 0.1743 - accuracy: 0.9418 - val_loss: 0.1641 - val_accuracy: 0.9459\n",
      "Epoch 60/60\n",
      "7875/7875 [==============================] - 13s 2ms/step - loss: 0.1635 - accuracy: 0.9451 - val_loss: 0.1709 - val_accuracy: 0.9463\n",
      "Training time: 772.394611120224 seconds\n"
     ]
    }
   ],
   "source": [
    "#train\n",
    "start_time = time.time()\n",
    "history = model.fit(x_train, y_train,\n",
    "                    batch_size=num_batch, \n",
    "                    epochs=num_epochs, \n",
    "                    validation_data=(x_test, y_test), \n",
    "                    verbose=1)\n",
    "finish_time = time.time() - start_time\n",
    "print(\"Training time: {} seconds\".format(finish_time))"
   ]
  },
  {
   "cell_type": "code",
   "execution_count": 33,
   "metadata": {},
   "outputs": [
    {
     "name": "stdout",
     "output_type": "stream",
     "text": [
      "Training Accuracy:  0.99657142162323\n",
      "Testing Accuracy:  0.9462857246398926\n"
     ]
    }
   ],
   "source": [
    "#evaluate\n",
    "acc = model.evaluate(x_train, y_train, verbose=0)\n",
    "print(\"Training Accuracy: \", acc[1])\n",
    "acc = model.evaluate(x_test, y_test, verbose=0)\n",
    "print(\"Testing Accuracy: \", acc[1])"
   ]
  },
  {
   "cell_type": "code",
   "execution_count": 34,
   "metadata": {},
   "outputs": [],
   "source": [
    "#make prediction and print it in human-readable format\n",
    "def make_prediction(file_name, model):\n",
    "    spectro = get_spectrogram(file_name)\n",
    "    spectro = spectro.reshape(1, num_rows, num_columns, num_channels)\n",
    "    prediction = model.predict_classes(spectro)\n",
    "    predicted_class = encoder.inverse_transform(prediction)\n",
    "    \n",
    "    print(\"Predicted class:\", class_label[predicted_class[0]], '\\n') \n",
    "    \n",
    "    #probabilities\n",
    "    prediction_prob = model.predict_proba(spectro) \n",
    "    predicted = prediction_prob[0]\n",
    "    for i in range(len(predicted)): \n",
    "        category = encoder.inverse_transform(np.array([i]))\n",
    "        print(category[0], \"\\t\\t : \", format(predicted[i], '.32f') )\n"
   ]
  },
  {
   "cell_type": "code",
   "execution_count": 37,
   "metadata": {
    "scrolled": true
   },
   "outputs": [
    {
     "name": "stdout",
     "output_type": "stream",
     "text": [
      "Predicted class: right \n",
      "\n",
      "0 \t\t :  0.00000050886495728263980709016323\n",
      "1 \t\t :  0.00000010396402672085969243198633\n",
      "2 \t\t :  0.00271651265211403369903564453125\n",
      "3 \t\t :  0.00000048116788775587338022887707\n",
      "4 \t\t :  0.99727708101272583007812500000000\n",
      "5 \t\t :  0.00000181030634394119260832667351\n",
      "6 \t\t :  0.00000352867073161178268492221832\n"
     ]
    }
   ],
   "source": [
    "make_prediction(test_file_right, model)"
   ]
  },
  {
   "cell_type": "code",
   "execution_count": 38,
   "metadata": {},
   "outputs": [
    {
     "data": {
      "image/png": "[encoded data removed]",
      "text/plain": [
       "<Figure size 432x288 with 1 Axes>"
      ]
     },
     "metadata": {
      "needs_background": "light"
     },
     "output_type": "display_data"
    },
    {
     "data": {
      "image/png": "[encoded data removed]",
      "text/plain": [
       "<Figure size 432x288 with 1 Axes>"
      ]
     },
     "metadata": {
      "needs_background": "light"
     },
     "output_type": "display_data"
    }
   ],
   "source": [
    "#plot\n",
    "acc = history.history['accuracy']\n",
    "val_acc = history.history['val_accuracy']\n",
    "loss = history.history['loss']\n",
    "val_loss = history.history['val_loss']\n",
    "epochs = range(1, len(acc) + 1)\n",
    "\n",
    "plt.plot(epochs, acc, 'b', label='Training acc')\n",
    "plt.plot(epochs, val_acc, 'g', label='Validation acc')\n",
    "plt.xlabel('Epochs')\n",
    "plt.ylabel('Accuracy')\n",
    "\n",
    "plt.title('Training and validation accuracy')\n",
    "plt.legend()\n",
    "fig = plt.figure()\n",
    "fig.savefig('acc.png')\n",
    "\n",
    "\n",
    "plt.plot(epochs, loss, 'b', label='Training loss')\n",
    "plt.plot(epochs, val_loss, 'g', label='Validation loss')\n",
    "plt.xlabel('Epochs')\n",
    "plt.ylabel('Loss')\n",
    "plt.title('Training and validation loss')\n",
    "\n",
    "plt.legend()\n",
    "plt.show()"
   ]
  },
  {
   "cell_type": "code",
   "execution_count": null,
   "metadata": {},
   "outputs": [],
   "source": []
  }
 ],
 "metadata": {
  "kernelspec": {
   "display_name": "Python 3",
   "language": "python",
   "name": "python3"
  },
  "language_info": {
   "codemirror_mode": {
    "name": "ipython",
    "version": 3
   },
   "file_extension": ".py",
   "mimetype": "text/x-python",
   "name": "python",
   "nbconvert_exporter": "python",
   "pygments_lexer": "ipython3",
   "version": "3.7.0"
  }
 },
 "nbformat": 4,
 "nbformat_minor": 4
}
