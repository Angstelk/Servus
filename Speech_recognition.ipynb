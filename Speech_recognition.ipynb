{
 "cells": [
  {
   "cell_type": "code",
   "execution_count": 1,
   "metadata": {},
   "outputs": [],
   "source": [
    "#imports\n",
    "import matplotlib.pyplot as plt\n",
    "from scipy import signal\n",
    "from scipy.io import wavfile\n",
    "import os\n",
    "import numpy as np\n",
    "import random\n",
    "from skimage.measure import block_reduce\n",
    "import time"
   ]
  },
  {
   "cell_type": "code",
   "execution_count": 2,
   "metadata": {},
   "outputs": [
    {
     "name": "stderr",
     "output_type": "stream",
     "text": [
      "Using TensorFlow backend.\n"
     ]
    }
   ],
   "source": [
    "#keras\n",
    "import keras\n",
    "from keras.models import Sequential\n",
    "from keras.layers import Dense, Conv2D, Dropout, Flatten, MaxPooling2D\n",
    "from keras.models import model_from_json"
   ]
  },
  {
   "cell_type": "code",
   "execution_count": 3,
   "metadata": {},
   "outputs": [],
   "source": [
    "#SETTINGS\n",
    "image_height = 28\n",
    "image_width = 44\n",
    "input_shape = [image_height, image_width,1]\n",
    "num_labels = 7\n",
    "labels = []\n",
    "PATH = \"C:\\\\Users\\\\Filip\\\\Desktop\\\\Jupyter\""
   ]
  },
  {
   "cell_type": "code",
   "execution_count": 4,
   "metadata": {
    "scrolled": false
   },
   "outputs": [],
   "source": [
    "#make spectrogram out of wav_file, transform it (reshape,gray,normalize)\n",
    "#and save it as a file.npy\n",
    "def make_spectrogram(wav_file,save_file):\n",
    "    nfft=512\n",
    "    overlap=511\n",
    "    #read file\n",
    "    sr, data = wavfile.read(wav_file)\n",
    "    #make subplot out of it\n",
    "    figure,axes = plt.subplots(1)\n",
    "    figure.subplots_adjust(left=0,right=1,bottom=0,top=1)\n",
    "    axes.axis(\"off\")\n",
    "    #make spectrogram\n",
    "    axes.specgram(x=data,Fs=sr,noverlap=overlap,NFFT=nfft)\n",
    "    axes.axis(\"off\")\n",
    "    #change figsize\n",
    "    plt.rcParams[\"figure.figsize\"]=[0.8,0.5]\n",
    "    figure.canvas.draw()\n",
    "    #get size and convert image to RGB byte string\n",
    "    width, height = figure.get_size_inches() * figure.get_dpi()\n",
    "    image = np.frombuffer(figure.canvas.tostring_rgb(), dtype=np.uint8)\n",
    "    #reshape\n",
    "    image = np.reshape(image, (int(height), int(width), 3))\n",
    "    plt.close(figure)\n",
    "    #make image gray\n",
    "    gray = np.dot(image[...,:3],[0.299,0.587,0.114])\n",
    "    #normalize image\n",
    "    gray = (gray - gray.min())/(gray.max()-gray.min())\n",
    "    np.save(save_file, gray)\n",
    "    return gray\n"
   ]
  },
  {
   "cell_type": "code",
   "execution_count": 5,
   "metadata": {},
   "outputs": [],
   "source": [
    "#load spectrogram from npy_file\n",
    "def load_spectrogram(npy_file):\n",
    "    npy_array = np.load(npy_file)\n",
    "    return npy_array"
   ]
  },
  {
   "cell_type": "code",
   "execution_count": 6,
   "metadata": {},
   "outputs": [
    {
     "name": "stderr",
     "output_type": "stream",
     "text": [
      "c:\\program files\\python37\\lib\\site-packages\\ipykernel_launcher.py:16: MatplotlibDeprecationWarning: \n",
      "The frameon kwarg was deprecated in Matplotlib 3.1 and will be removed in 3.3. Use facecolor instead.\n",
      "  app.launch_new_instance()\n"
     ]
    },
    {
     "data": {
      "text/plain": [
       "array([[0.27917538, 0.27373221, 0.26642903, ..., 0.23735319, 0.1546606 ,\n",
       "        0.21487135],\n",
       "       [0.26098587, 0.27008062, 0.27552379, ..., 0.2937133 , 0.28461854,\n",
       "        0.28096696],\n",
       "       [0.26463745, 0.26463745, 0.26098587, ..., 0.2937133 , 0.28096696,\n",
       "        0.26463745],\n",
       "       ...,\n",
       "       [0.32207997, 0.32573156, 0.32387155, ..., 0.37272942, 0.38297502,\n",
       "        0.38956903],\n",
       "       [0.31298522, 0.30933363, 0.30280805, ..., 0.37272942, 0.37932343,\n",
       "        0.38297502],\n",
       "       [0.28096696, 0.27552379, 0.27008062, ..., 0.35338907, 0.36542625,\n",
       "        0.37272942]])"
      ]
     },
     "execution_count": 6,
     "metadata": {},
     "output_type": "execute_result"
    }
   ],
   "source": [
    "def spectros(dataset_dir, save_dir):"
   ]
  },
  {
   "cell_type": "code",
   "execution_count": null,
   "metadata": {},
   "outputs": [],
   "source": []
  }
 ],
 "metadata": {
  "kernelspec": {
   "display_name": "Python 3",
   "language": "python",
   "name": "python3"
  },
  "language_info": {
   "codemirror_mode": {
    "name": "ipython",
    "version": 3
   },
   "file_extension": ".py",
   "mimetype": "text/x-python",
   "name": "python",
   "nbconvert_exporter": "python",
   "pygments_lexer": "ipython3",
   "version": "3.7.0"
  }
 },
 "nbformat": 4,
 "nbformat_minor": 4
}
